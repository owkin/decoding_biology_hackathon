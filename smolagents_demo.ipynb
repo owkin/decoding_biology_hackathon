{
 "cells": [
  {
   "cell_type": "markdown",
   "metadata": {},
   "source": [
    "# SmolAgents Demo with vLLM Docker Server\n",
    "\n",
    "This notebook demonstrates how to use [smolagents](https://github.com/huggingface/smolagents) - a barebones library for agents that think in code - with a shared vLLM Docker server.\n",
    "\n",
    "## Prerequisites\n",
    "\n",
    "1. Start the vLLM Docker container (shared by all team members):\n",
    "   ```bash\n",
    "   ./start_vllm_docker.sh\n",
    "   ```"
   ]
  },
  {
   "cell_type": "code",
   "execution_count": null,
   "metadata": {},
   "outputs": [],
   "source": [
    "import logging\n",
    "from openai import OpenAI\n",
    "from smolagents import CodeAgent, OpenAIServerModel, Tool\n",
    "\n",
    "# Set up logging\n",
    "logging.basicConfig(level=logging.INFO)\n",
    "logger = logging.getLogger(__name__)\n",
    "\n",
    "print(\"SmolAgents demo initialized!\")\n"
   ]
  },
  {
   "cell_type": "markdown",
   "metadata": {},
   "source": [
    "## DuckDuckGo Search Tool\n",
    "\n",
    "Let's create a free DuckDuckGo search tool.\n"
   ]
  },
  {
   "cell_type": "code",
   "execution_count": null,
   "metadata": {},
   "outputs": [],
   "source": [
    "from smolagents import DuckDuckGoSearchTool\n",
    "\n",
    "duckduckgo_tool = DuckDuckGoSearchTool()"
   ]
  },
  {
   "cell_type": "markdown",
   "metadata": {},
   "source": [
    "## Initialize the Agent\n",
    "\n",
    "Now let's create a CodeAgent that can use both DuckDuckGo search and other tools. The agent will connect to our vLLM server running in Docker.\n",
    "\n",
    "Note that if you want, you can also use smolagent's VLLMModel to launch an LLM from the python kernel https://huggingface.co/docs/smolagents/main/en/reference/models#smolagents.VLLMModel."
   ]
  },
  {
   "cell_type": "code",
   "execution_count": null,
   "metadata": {},
   "outputs": [],
   "source": [
    "# Initialize the OpenAI client to connect to vLLM server\n",
    "client = OpenAI(\n",
    "    api_key=\"EMPTY\",  # vLLM doesn't require authentication\n",
    "    base_url=\"http://localhost:8000/v1\",\n",
    ")\n",
    "# Retrieve the model id from the vLLM server\n",
    "try:\n",
    "    model_ids = list(client.models.list())\n",
    "    if model_ids:\n",
    "        print(\"vLLM server is up and running!\")\n",
    "        print(f\"Available models: {[model.id for model in model_ids]}\")\n",
    "    else:\n",
    "        print(\"No models available\")\n",
    "except Exception as e:\n",
    "    print(f\"Error connecting to vLLM server: {e}\")\n",
    "    print(\"Make sure the server is running by executing `./start_vllm_docker.sh`\")\n",
    "model_id = model_ids[0].id\n",
    "\n",
    "\n",
    "# Initialize the smolagents model to connect to our vLLM server\n",
    "model = OpenAIServerModel(\n",
    "    model_id=model_id,\n",
    "    api_base=\"http://localhost:8000/v1\",\n",
    "    api_key=\"EMPTY\",\n",
    "    temperature=0.7\n",
    ")\n",
    "\n",
    "# Create the agent with DuckDuckGo search capability\n",
    "agent = CodeAgent(\n",
    "    tools=[duckduckgo_tool],\n",
    "    model=model,\n",
    "    stream_outputs=True\n",
    ")\n",
    "\n",
    "print(\"Agent initialized with DuckDuckGo search tool!\")\n"
   ]
  },
  {
   "cell_type": "markdown",
   "metadata": {},
   "source": [
    "## Test DuckDuckGo Search\n",
    "\n",
    "Let's test our DuckDuckGo search tool first.\n"
   ]
  },
  {
   "cell_type": "code",
   "execution_count": null,
   "metadata": {},
   "outputs": [],
   "source": [
    "# Test the DuckDuckGo search tool directly\n",
    "test_query = \"CRISPR gene editing 2024\"\n",
    "print(f\"Testing DuckDuckGo search with query: '{test_query}'\")\n",
    "print(\"\\n\" + \"=\"*60)\n",
    "\n",
    "# Test the search tool directly\n",
    "search_results = duckduckgo_tool(test_query)\n",
    "print(search_results)\n",
    "\n",
    "print(\"\\n\" + \"=\"*60)\n",
    "print(\"DuckDuckGo search test completed!\")\n"
   ]
  },
  {
   "cell_type": "markdown",
   "metadata": {},
   "source": [
    "## Drug Discovery Research\n",
    "\n",
    "Let's try a drug discovery research task.\n"
   ]
  },
  {
   "cell_type": "code",
   "execution_count": null,
   "metadata": {},
   "outputs": [],
   "source": [
    "# Drug discovery research task\n",
    "drug_task = \"\"\"\n",
    "Research recent advances in AI-driven drug discovery. Focus on:\n",
    "1. Machine learning models used for drug discovery\n",
    "2. Recent successful drug candidates discovered using AI\n",
    "3. Companies leading in this field\n",
    "4. Challenges and limitations\n",
    "\n",
    "Use web search to find specific examples and recent news.\n",
    "\"\"\"\n",
    "\n",
    "print(\"Starting drug discovery research with DuckDuckGo...\")\n",
    "print(f\"Task: {drug_task.strip()}\")\n",
    "print(\"\\n\" + \"=\"*60)\n",
    "\n",
    "# Run the agent\n",
    "result = agent.run(drug_task, max_steps=5)\n",
    "\n",
    "print(\"\\n\" + \"=\"*60)\n",
    "print(\"Drug discovery research completed!\")\n"
   ]
  },
  {
   "cell_type": "markdown",
   "metadata": {},
   "source": [
    "## Custom Biology Tools\n",
    "\n",
    "Let's create additional biology-specific search tools.\n"
   ]
  },
  {
   "cell_type": "code",
   "execution_count": null,
   "metadata": {},
   "outputs": [],
   "source": [
    "class PubMedSearchTool(Tool):\n",
    "    \"\"\"Tool for searching PubMed using DuckDuckGo.\"\"\"\n",
    "    \n",
    "    name = \"search_pubmed\"\n",
    "    description = \"Search PubMed for scientific articles related to biology topics\"\n",
    "    inputs = {\n",
    "        \"query\": {\n",
    "            \"type\": \"string\",\n",
    "            \"description\": \"The search query for PubMed articles\"\n",
    "        }\n",
    "    }\n",
    "    output_type = \"string\"\n",
    "    \n",
    "    def forward(self, query: str) -> str:\n",
    "        \"\"\"Search PubMed using DuckDuckGo site search.\"\"\"\n",
    "        search_query = f\"site:pubmed.ncbi.nlm.nih.gov {query}\"\n",
    "        return duckduckgo_tool(search_query)\n",
    "\n",
    "class BiorxivSearchTool(Tool):\n",
    "    \"\"\"Tool for searching arXiv using DuckDuckGo.\"\"\"\n",
    "    \n",
    "    name = \"search_biorxiv\"\n",
    "    description = \"Search biorxiv for preprints related to biology topics\"\n",
    "    inputs = {\n",
    "        \"query\": {\n",
    "            \"type\": \"string\",\n",
    "            \"description\": \"The search query for biorxiv preprints\"\n",
    "        }\n",
    "    }\n",
    "    output_type = \"string\"\n",
    "    \n",
    "    def forward(self, query: str) -> str:\n",
    "        \"\"\"Search arXiv using DuckDuckGo site search.\"\"\"\n",
    "        search_query = f\"site:biorxiv.org {query}\"\n",
    "        return duckduckgo_tool(search_query)\n",
    "\n",
    "# Create the custom tools\n",
    "pubmed_tool = PubMedSearchTool()\n",
    "biorxiv_tool = BiorxivSearchTool()\n",
    "\n",
    "# Create agent with multiple search tools\n",
    "research_agent = CodeAgent(\n",
    "    tools=[duckduckgo_tool, pubmed_tool, biorxiv_tool],\n",
    "    model=model,\n",
    "    stream_outputs=True\n",
    ")\n",
    "\n",
    "print(\"Research agent with multiple search tools created!\")\n"
   ]
  },
  {
   "cell_type": "code",
   "execution_count": null,
   "metadata": {},
   "outputs": [],
   "source": [
    "# Test the research agent with PubMed search\n",
    "research_task = \"\"\"\n",
    "Find recent research papers about COVID-19 vaccine development using both web search and PubMed search.\n",
    "Compare the results from both sources and provide a summary.\n",
    "\"\"\"\n",
    "\n",
    "print(\"Starting research with PubMed...\")\n",
    "print(f\"Task: {research_task.strip()}\")\n",
    "print(\"\\n\" + \"=\"*60)\n",
    "\n",
    "# Run the research agent\n",
    "result = research_agent.run(research_task, max_steps=5)\n",
    "\n",
    "print(\"\\n\" + \"=\"*60)\n",
    "print(\"Research with PubMed completed!\")\n"
   ]
  }
 ],
 "metadata": {
  "kernelspec": {
   "display_name": "Python (My Cool Project)",
   "language": "python",
   "name": "my-project-kernel"
  },
  "language_info": {
   "codemirror_mode": {
    "name": "ipython",
    "version": 3
   },
   "file_extension": ".py",
   "mimetype": "text/x-python",
   "name": "python",
   "nbconvert_exporter": "python",
   "pygments_lexer": "ipython3",
   "version": "3.11.13"
  }
 },
 "nbformat": 4,
 "nbformat_minor": 4
}
